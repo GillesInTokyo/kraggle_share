{
 "metadata": {
  "name": "",
  "signature": "sha256:3658a34c10b29e4939c9e93b63adb26bbbe0274c97715d52c9ced21d31c29055"
 },
 "nbformat": 3,
 "nbformat_minor": 0,
 "worksheets": [
  {
   "cells": [
    {
     "cell_type": "code",
     "collapsed": false,
     "input": [
      "import pandas as pd\n",
      "import numpy as np\n",
      "import math\n",
      "import random\n",
      "import tensorflow as tf"
     ],
     "language": "python",
     "metadata": {},
     "outputs": [],
     "prompt_number": 2
    },
    {
     "cell_type": "code",
     "collapsed": false,
     "input": [
      "train = pd.read_csv(\"train.csv\")\n",
      "train.shape"
     ],
     "language": "python",
     "metadata": {},
     "outputs": [
      {
       "metadata": {},
       "output_type": "pyout",
       "prompt_number": 3,
       "text": [
        "(878049, 9)"
       ]
      }
     ],
     "prompt_number": 3
    },
    {
     "cell_type": "code",
     "collapsed": false,
     "input": [
      "train.head(5)"
     ],
     "language": "python",
     "metadata": {},
     "outputs": [
      {
       "html": [
        "<div style=\"max-height:1000px;max-width:1500px;overflow:auto;\">\n",
        "<table border=\"1\" class=\"dataframe\">\n",
        "  <thead>\n",
        "    <tr style=\"text-align: right;\">\n",
        "      <th></th>\n",
        "      <th>Dates</th>\n",
        "      <th>Category</th>\n",
        "      <th>Descript</th>\n",
        "      <th>DayOfWeek</th>\n",
        "      <th>PdDistrict</th>\n",
        "      <th>Resolution</th>\n",
        "      <th>Address</th>\n",
        "      <th>X</th>\n",
        "      <th>Y</th>\n",
        "    </tr>\n",
        "  </thead>\n",
        "  <tbody>\n",
        "    <tr>\n",
        "      <th>0</th>\n",
        "      <td> 2015-05-13 23:53:00</td>\n",
        "      <td>       WARRANTS</td>\n",
        "      <td>               WARRANT ARREST</td>\n",
        "      <td> Wednesday</td>\n",
        "      <td> NORTHERN</td>\n",
        "      <td> ARREST, BOOKED</td>\n",
        "      <td>        OAK ST / LAGUNA ST</td>\n",
        "      <td>-122.425892</td>\n",
        "      <td> 37.774599</td>\n",
        "    </tr>\n",
        "    <tr>\n",
        "      <th>1</th>\n",
        "      <td> 2015-05-13 23:53:00</td>\n",
        "      <td> OTHER OFFENSES</td>\n",
        "      <td>     TRAFFIC VIOLATION ARREST</td>\n",
        "      <td> Wednesday</td>\n",
        "      <td> NORTHERN</td>\n",
        "      <td> ARREST, BOOKED</td>\n",
        "      <td>        OAK ST / LAGUNA ST</td>\n",
        "      <td>-122.425892</td>\n",
        "      <td> 37.774599</td>\n",
        "    </tr>\n",
        "    <tr>\n",
        "      <th>2</th>\n",
        "      <td> 2015-05-13 23:33:00</td>\n",
        "      <td> OTHER OFFENSES</td>\n",
        "      <td>     TRAFFIC VIOLATION ARREST</td>\n",
        "      <td> Wednesday</td>\n",
        "      <td> NORTHERN</td>\n",
        "      <td> ARREST, BOOKED</td>\n",
        "      <td> VANNESS AV / GREENWICH ST</td>\n",
        "      <td>-122.424363</td>\n",
        "      <td> 37.800414</td>\n",
        "    </tr>\n",
        "    <tr>\n",
        "      <th>3</th>\n",
        "      <td> 2015-05-13 23:30:00</td>\n",
        "      <td>  LARCENY/THEFT</td>\n",
        "      <td> GRAND THEFT FROM LOCKED AUTO</td>\n",
        "      <td> Wednesday</td>\n",
        "      <td> NORTHERN</td>\n",
        "      <td>           NONE</td>\n",
        "      <td>  1500 Block of LOMBARD ST</td>\n",
        "      <td>-122.426995</td>\n",
        "      <td> 37.800873</td>\n",
        "    </tr>\n",
        "    <tr>\n",
        "      <th>4</th>\n",
        "      <td> 2015-05-13 23:30:00</td>\n",
        "      <td>  LARCENY/THEFT</td>\n",
        "      <td> GRAND THEFT FROM LOCKED AUTO</td>\n",
        "      <td> Wednesday</td>\n",
        "      <td>     PARK</td>\n",
        "      <td>           NONE</td>\n",
        "      <td> 100 Block of BRODERICK ST</td>\n",
        "      <td>-122.438738</td>\n",
        "      <td> 37.771541</td>\n",
        "    </tr>\n",
        "  </tbody>\n",
        "</table>\n",
        "</div>"
       ],
       "metadata": {},
       "output_type": "pyout",
       "prompt_number": 4,
       "text": [
        "                 Dates        Category                      Descript  \\\n",
        "0  2015-05-13 23:53:00        WARRANTS                WARRANT ARREST   \n",
        "1  2015-05-13 23:53:00  OTHER OFFENSES      TRAFFIC VIOLATION ARREST   \n",
        "2  2015-05-13 23:33:00  OTHER OFFENSES      TRAFFIC VIOLATION ARREST   \n",
        "3  2015-05-13 23:30:00   LARCENY/THEFT  GRAND THEFT FROM LOCKED AUTO   \n",
        "4  2015-05-13 23:30:00   LARCENY/THEFT  GRAND THEFT FROM LOCKED AUTO   \n",
        "\n",
        "   DayOfWeek PdDistrict      Resolution                    Address  \\\n",
        "0  Wednesday   NORTHERN  ARREST, BOOKED         OAK ST / LAGUNA ST   \n",
        "1  Wednesday   NORTHERN  ARREST, BOOKED         OAK ST / LAGUNA ST   \n",
        "2  Wednesday   NORTHERN  ARREST, BOOKED  VANNESS AV / GREENWICH ST   \n",
        "3  Wednesday   NORTHERN            NONE   1500 Block of LOMBARD ST   \n",
        "4  Wednesday       PARK            NONE  100 Block of BRODERICK ST   \n",
        "\n",
        "            X          Y  \n",
        "0 -122.425892  37.774599  \n",
        "1 -122.425892  37.774599  \n",
        "2 -122.424363  37.800414  \n",
        "3 -122.426995  37.800873  \n",
        "4 -122.438738  37.771541  "
       ]
      }
     ],
     "prompt_number": 4
    },
    {
     "cell_type": "code",
     "collapsed": false,
     "input": [
      "strain = train[0:10]\n",
      "\n",
      "sterms = strain[[\"Address\",\"PdDistrict\",\"DayOfWeek\"]].apply(lambda x : \" \".join(set(\" \".join(x).split())), axis=1)\n",
      "print sterms"
     ],
     "language": "python",
     "metadata": {},
     "outputs": [
      {
       "output_type": "stream",
       "stream": "stdout",
       "text": [
        "0              NORTHERN OAK Wednesday / ST LAGUNA\n",
        "1              NORTHERN OAK Wednesday / ST LAGUNA\n",
        "2    GREENWICH NORTHERN Wednesday / ST AV VANNESS\n",
        "3     LOMBARD NORTHERN of Wednesday ST 1500 Block\n",
        "4        BRODERICK of PARK Wednesday ST 100 Block\n",
        "5         TEDDY INGLESIDE of Wednesday 0 AV Block\n",
        "6            INGLESIDE Wednesday / AVALON PERU AV\n",
        "7      Wednesday / ST KIRKWOOD AV BAYVIEW DONAHUE\n",
        "8         600 of Wednesday RICHMOND 47TH AV Block\n",
        "9    CENTRAL LEAVENWORTH Wednesday / ST JEFFERSON\n",
        "dtype: object\n"
       ]
      }
     ],
     "prompt_number": 5
    },
    {
     "cell_type": "code",
     "collapsed": false,
     "input": [
      "terms = train[[\"Address\",\"PdDistrict\",\"DayOfWeek\"]].apply(lambda x : \" \".join(set('{} {} {}'.format(x[0],x[1],x[2]).split())), axis=1)"
     ],
     "language": "python",
     "metadata": {},
     "outputs": [],
     "prompt_number": 6
    },
    {
     "cell_type": "code",
     "collapsed": false,
     "input": [
      "print type(terms)\n",
      "print terms"
     ],
     "language": "python",
     "metadata": {},
     "outputs": [
      {
       "output_type": "stream",
       "stream": "stdout",
       "text": [
        "<class 'pandas.core.series.Series'>\n",
        "0               NORTHERN OAK Wednesday / ST LAGUNA\n",
        "1               NORTHERN OAK Wednesday / ST LAGUNA\n",
        "2     GREENWICH NORTHERN Wednesday / ST AV VANNESS\n",
        "3      LOMBARD NORTHERN of Wednesday ST 1500 Block\n",
        "4         BRODERICK of PARK Wednesday ST 100 Block\n",
        "5          TEDDY INGLESIDE of Wednesday 0 AV Block\n",
        "6             INGLESIDE Wednesday / AVALON PERU AV\n",
        "7       Wednesday / ST KIRKWOOD AV BAYVIEW DONAHUE\n",
        "8          600 of Wednesday RICHMOND 47TH AV Block\n",
        "9     CENTRAL LEAVENWORTH Wednesday / ST JEFFERSON\n",
        "10    CENTRAL LEAVENWORTH Wednesday / ST JEFFERSON\n",
        "11         ESCOLTA of Wednesday 0 TARAVAL Block WY\n",
        "12            JONES Wednesday TENDERLOIN ST TURK /\n",
        "13       FILLMORE NORTHERN BL Wednesday / ST GEARY\n",
        "14      200 of Wednesday Block AV BAYVIEW WILLIAMS\n",
        "...\n",
        "878034        Monday 22ND of RICHMOND AV Block 1000\n",
        "878035     1300 Monday NORTHERN of ST WEBSTER Block\n",
        "878036     1300 Monday NORTHERN of ST WEBSTER Block\n",
        "878037     1300 Monday NORTHERN of ST WEBSTER Block\n",
        "878038          TAYLOR Monday TENDERLOIN ST / GEARY\n",
        "878039         NORTHERN Monday / ST CALIFORNIA POLK\n",
        "878040       Monday of MISSION ST FOLSOM 2800 Block\n",
        "878041         Monday / 14TH RICHMOND AV ST CLEMENT\n",
        "878042      Monday of SHAFTER 1500 AV BAYVIEW Block\n",
        "878043      Monday of SHAFTER 1500 AV BAYVIEW Block\n",
        "878044    CAPITOL Monday / ST TARAVAL FARALLONES AV\n",
        "878045        600 Monday EDNA of ST INGLESIDE Block\n",
        "878046              Monday 5TH SOUTHERN / ST FOLSOM\n",
        "878047            Monday SOUTHERN / 2ND ST TOWNSEND\n",
        "878048      Monday 1800 of AV BAYVIEW NEWCOMB Block\n",
        "Length: 878049, dtype: object\n"
       ]
      }
     ],
     "prompt_number": 7
    },
    {
     "cell_type": "code",
     "collapsed": false,
     "input": [
      "term_list = pd.DataFrame(terms.str.split().tolist()).stack().value_counts().keys().values\n",
      "print type(term_list)\n",
      "print term_list\n",
      "\n",
      "stopwords = [\"Block\"]\n",
      "for t in term_list:\n",
      "    if len(t) < 3:\n",
      "        stopwords.append(t)\n",
      "        \n",
      "print stopwords"
     ],
     "language": "python",
     "metadata": {},
     "outputs": [
      {
       "output_type": "stream",
       "stream": "stdout",
       "text": [
        "<type 'numpy.ndarray'>\n",
        "['ST' 'Block' 'of' ..., 'DIEGO' 'MILEY' 'BOOM']\n",
        "['Block', 'ST', 'of', '/', 'AV', '0', 'BL', 'DR', 'WY', 'RD', 'CT', 'HY', 'PZ', 'LN', 'PL', 'TR', 'LA', 'AL', 'JR', 'CR', 'F', 'DE', 'MC', 'A', 'OF', 'MT', 'PT', 'V', 'GG', 'EL', 'LE', 'J', 'EX', 'P', 'FE', 'WK', 'SF', 'US', 'I', 'RW', 'B']\n"
       ]
      }
     ],
     "prompt_number": 8
    },
    {
     "cell_type": "code",
     "collapsed": false,
     "input": [
      "cat_labels = np.sort(train[\"Category\"].unique())\n",
      "print cat_labels"
     ],
     "language": "python",
     "metadata": {},
     "outputs": [
      {
       "output_type": "stream",
       "stream": "stdout",
       "text": [
        "['ARSON' 'ASSAULT' 'BAD CHECKS' 'BRIBERY' 'BURGLARY' 'DISORDERLY CONDUCT'\n",
        " 'DRIVING UNDER THE INFLUENCE' 'DRUG/NARCOTIC' 'DRUNKENNESS' 'EMBEZZLEMENT'\n",
        " 'EXTORTION' 'FAMILY OFFENSES' 'FORGERY/COUNTERFEITING' 'FRAUD' 'GAMBLING'\n",
        " 'KIDNAPPING' 'LARCENY/THEFT' 'LIQUOR LAWS' 'LOITERING' 'MISSING PERSON'\n",
        " 'NON-CRIMINAL' 'OTHER OFFENSES' 'PORNOGRAPHY/OBSCENE MAT' 'PROSTITUTION'\n",
        " 'RECOVERED VEHICLE' 'ROBBERY' 'RUNAWAY' 'SECONDARY CODES'\n",
        " 'SEX OFFENSES FORCIBLE' 'SEX OFFENSES NON FORCIBLE' 'STOLEN PROPERTY'\n",
        " 'SUICIDE' 'SUSPICIOUS OCC' 'TREA' 'TRESPASS' 'VANDALISM' 'VEHICLE THEFT'\n",
        " 'WARRANTS' 'WEAPON LAWS']\n"
       ]
      }
     ],
     "prompt_number": 18
    },
    {
     "cell_type": "code",
     "collapsed": false,
     "input": [
      "print len(term_list)\n",
      "print len(cat_labels)\n",
      "\n",
      "print (cat_labels == \"EMBEZZLEMENT\").astype(int)\n",
      "term_list==\"NORTHERN\""
     ],
     "language": "python",
     "metadata": {},
     "outputs": [
      {
       "output_type": "stream",
       "stream": "stdout",
       "text": [
        "2163\n",
        "39\n",
        "[0 0 0 0 0 0 0 0 0 1 0 0 0 0 0 0 0 0 0 0 0 0 0 0 0 0 0 0 0 0 0 0 0 0 0 0 0\n",
        " 0 0]\n"
       ]
      },
      {
       "metadata": {},
       "output_type": "pyout",
       "prompt_number": 21,
       "text": [
        "array([False, False, False, ..., False, False, False], dtype=bool)"
       ]
      }
     ],
     "prompt_number": 21
    },
    {
     "cell_type": "code",
     "collapsed": false,
     "input": [
      "inputs  = terms.values\n",
      "outputs = train[\"Category\"].values\n",
      "\n",
      "split = int(0.9 * inputs.shape[0])\n",
      "\n",
      "idx = np.arange(inputs.shape[0])\n",
      "np.random.shuffle(idx)\n",
      "\n",
      "idx_train = idx[0:split]\n",
      "idx_test  = idx[split:inputs.shape[0]]\n",
      "\n",
      "train_in_set = inputs[idx_train] \n",
      "train_out_set = outputs[idx_train] \n",
      "\n",
      "test_in_set  = inputs[idx_test]\n",
      "test_out_set  = outputs[idx_test]\n",
      "\n",
      "print train_in_set.shape\n",
      "print train_out_set.shape\n",
      "\n",
      "print test_in_set.shape\n",
      "print test_out_set.shape\n"
     ],
     "language": "python",
     "metadata": {},
     "outputs": [
      {
       "output_type": "stream",
       "stream": "stdout",
       "text": [
        "(790244,)\n",
        "(790244,)\n",
        "(87805,)\n",
        "(87805,)\n"
       ]
      }
     ],
     "prompt_number": 22
    },
    {
     "cell_type": "code",
     "collapsed": false,
     "input": [
      "class Model:\n",
      "    def __init__(self, term_list, cat_labels, stopwords):\n",
      "        self.term_list  = term_list\n",
      "        self.cat_labels = cat_labels\n",
      "        self.stopwords = stopwords\n",
      "\n",
      "    def setStopword(self, stopwords):\n",
      "        self.stopwords = stopwords\n",
      "        \n",
      "    def train(self, train_in, train_out):\n",
      "        # note this.. the counts start at *1* giving uniform chance to all cats.. counts then offset this \n",
      "        self.term_cat_freq_count = np.ones((len(term_list), len(cat_labels)))\n",
      "        for i in xrange(len(train_in)):\n",
      "            cat_weight = (self.cat_labels == train_out[i]).astype(int)\n",
      "            terms = train_in[i].split()\n",
      "            for t in terms:\n",
      "                idx = self.term_list==t\n",
      "                self.term_cat_freq_count[idx,:] += cat_weight\n",
      "        print self.term_cat_freq_count\n",
      "        \n",
      "        sums = np.sum(self.term_cat_freq_count, axis=1)\n",
      "        self.term_cat_freq_count = (self.term_cat_freq_count.transpose() / sums).transpose() \n",
      "        \n",
      "    def run(self, data):\n",
      "        # basicly we combine the pdf for each term by assuming terms are mutex\n",
      "        pdf = np.ones((data.shape[0],len(cat_labels)))/len(cat_labels)\n",
      "        \n",
      "        for i in xrange(len(data)):\n",
      "            terms = data[i].split()\n",
      "            for t in terms:\n",
      "                if (not t in self.stopwords):                    \n",
      "                    idx = self.term_list==t\n",
      "                    pdf[i,:] *= self.term_cat_freq_count[idx,:].reshape((self.term_cat_freq_count.shape[1])) \n",
      "        \n",
      "        return pdf\n",
      "    \n",
      "    def accuracy(self,model_out_set,test_out_set):\n",
      "        test_hot_outs = np.array([cat_labels == i for i in test_out_set])\n",
      "        return np.mean(np.argmax(model_out, axis=1) == np.argmax(test_hot_outs, axis=1))"
     ],
     "language": "python",
     "metadata": {},
     "outputs": [],
     "prompt_number": 23
    },
    {
     "cell_type": "code",
     "collapsed": false,
     "input": [
      "model = Model(term_list, cat_labels, stopwords)\n",
      "\n",
      "model.train(train_in_set,train_out_set)"
     ],
     "language": "python",
     "metadata": {},
     "outputs": [
      {
       "output_type": "stream",
       "stream": "stdout",
       "text": [
        "[[  8.93000000e+02   5.18760000e+04   2.73000000e+02 ...,   3.55930000e+04\n",
        "    3.22060000e+04   5.66900000e+03]\n",
        " [  1.12600000e+03   5.52520000e+04   3.40000000e+02 ...,   3.08250000e+04\n",
        "    2.51850000e+04   5.50700000e+03]\n",
        " [  1.12600000e+03   5.52520000e+04   3.40000000e+02 ...,   3.08250000e+04\n",
        "    2.51850000e+04   5.50700000e+03]\n",
        " ..., \n",
        " [  1.00000000e+00   1.00000000e+00   1.00000000e+00 ...,   1.00000000e+00\n",
        "    1.00000000e+00   1.00000000e+00]\n",
        " [  1.00000000e+00   1.00000000e+00   1.00000000e+00 ...,   1.00000000e+00\n",
        "    1.00000000e+00   1.00000000e+00]\n",
        " [  1.00000000e+00   1.00000000e+00   1.00000000e+00 ...,   1.00000000e+00\n",
        "    1.00000000e+00   1.00000000e+00]]\n"
       ]
      }
     ],
     "prompt_number": 24
    },
    {
     "cell_type": "code",
     "collapsed": false,
     "input": [
      "model.setStopword(stopwords)\n",
      "model_out = model.run(test_in_set)\n",
      "print \" accuracy:\", model.accuracy(model_out, test_out_set)"
     ],
     "language": "python",
     "metadata": {},
     "outputs": [
      {
       "output_type": "stream",
       "stream": "stdout",
       "text": [
        " accuracy: "
       ]
      },
      {
       "output_type": "stream",
       "stream": "stdout",
       "text": [
        "0.229314959285\n"
       ]
      }
     ],
     "prompt_number": 25
    },
    {
     "cell_type": "code",
     "collapsed": false,
     "input": [
      "model.setStopword([])\n",
      "model_out2 = model.run(test_in_set)\n",
      "print \" accuracy:\", model.accuracy(model_out2, test_out_set)"
     ],
     "language": "python",
     "metadata": {},
     "outputs": [
      {
       "output_type": "stream",
       "stream": "stdout",
       "text": [
        " accuracy: "
       ]
      },
      {
       "output_type": "stream",
       "stream": "stdout",
       "text": [
        "0.229314959285\n"
       ]
      }
     ],
     "prompt_number": 26
    },
    {
     "cell_type": "code",
     "collapsed": false,
     "input": [
      "print model_out[0]\n",
      "print model_out2[0]\n",
      "\n",
      "print \"stop word check\"\n",
      "print test_in_set[0]\n",
      "\n",
      "# clear the stop words...\n",
      "#model.setStopword(stopwords)\n",
      "model.setStopword([])\n",
      "\n",
      "cut_in = np.array([\"of Tuesday SOUTHERN ST 4TH 100 Block\"])\n",
      "cut_in2 = np.array([\"Tuesday SOUTHERN 4TH 100\"])\n",
      "cut_out = test_out_set[0]\n",
      "\n",
      "cut_model_out  = model.run(cut_in)\n",
      "cut_model_out2 = model.run(cut_in2)\n",
      "\n",
      "print cut_model_out\n",
      "print cut_model_out2\n",
      "print (cut_model_out - cut_model_out2)"
     ],
     "language": "python",
     "metadata": {},
     "outputs": [
      {
       "output_type": "stream",
       "stream": "stdout",
       "text": [
        "[  4.01700916e-13   1.83854376e-06   2.67131109e-15   4.39695128e-15\n",
        "   3.24782537e-08   1.20941702e-11   7.26307392e-12   2.87568029e-07\n",
        "   2.29548273e-11   3.61078911e-14   2.92906918e-16   2.94045070e-14\n",
        "   2.91561956e-10   1.78639466e-09   4.33083800e-16   4.16777253e-12\n",
        "   1.28663906e-05   4.19205033e-12   6.14727933e-14   9.50354186e-09\n",
        "   1.75362614e-06   2.26923318e-05   3.76594609e-18   3.63430066e-11\n",
        "   1.20411456e-11   2.63184015e-08   6.31247883e-13   1.36003105e-09\n",
        "   4.57047268e-11   5.62381282e-16   1.72665582e-11   5.63385535e-15\n",
        "   3.34914808e-08   1.67375382e-18   1.28831911e-10   1.47953603e-07\n",
        "   1.16102197e-06   7.19558092e-08   3.65718958e-10]\n",
        "[  5.67405499e-19   9.03538985e-09   1.04865755e-22   1.89679101e-22\n",
        "   2.11851337e-12   3.09309585e-16   1.01011027e-16   1.49790299e-09\n",
        "   6.51048107e-16   5.37389340e-21   8.96930316e-24   1.29666279e-21\n",
        "   1.08689976e-14   3.66952119e-13   5.44467417e-24   1.70177986e-17\n",
        "   5.85748437e-07   2.23833612e-17   2.88222788e-19   1.47902151e-12\n",
        "   1.69591432e-08   7.81324067e-07   1.93402748e-27   8.59116842e-15\n",
        "   6.15789051e-17   2.82182958e-11   1.53852306e-19   6.90438397e-14\n",
        "   6.11386149e-16   5.82250578e-24   4.34660468e-16   1.70512115e-22\n",
        "   2.44194037e-11   6.87654216e-29   1.44386540e-15   2.60435005e-10\n",
        "   5.00649505e-09   2.03717013e-10   3.10477400e-14]\n",
        "stop word check\n",
        "Monday MISSION / ST YORK 25TH\n",
        "[[  4.43463720e-22   9.92291085e-10   2.59220098e-25   6.97848774e-27\n",
        "    5.22488141e-12   8.25034459e-19   1.37372856e-21   2.43762191e-11\n",
        "    1.82029936e-18   3.89763243e-22   1.53467209e-26   3.76827666e-25\n",
        "    1.56918354e-15   6.00931049e-14   1.63489098e-28   1.51675063e-20\n",
        "    6.47866392e-07   4.05265552e-21   3.40787582e-22   1.84946134e-13\n",
        "    6.13138184e-09   1.06643760e-08   5.84129963e-33   5.65959438e-21\n",
        "    7.63710748e-20   1.21998338e-13   4.17289624e-22   2.80840074e-16\n",
        "    1.59888690e-18   7.04988616e-29   3.41518760e-18   3.60164604e-25\n",
        "    1.90341256e-12   1.76681285e-35   5.10286074e-16   1.67731481e-11\n",
        "    2.21937949e-11   1.42028254e-11   8.19778187e-17]]\n",
        "[[  7.51311990e-14   1.20189649e-06   1.57557345e-15   1.55205742e-16\n",
        "    3.89496095e-08   6.43013333e-12   2.85779420e-13   1.18166582e-07\n",
        "    1.58735387e-11   8.52107653e-14   3.99426543e-16   1.76473909e-15\n",
        "    5.47226109e-10   6.41611068e-09   2.15794080e-17   6.38727446e-13\n",
        "    8.52179439e-05   3.73340359e-13   3.81716039e-13   4.98153208e-09\n",
        "    4.73325204e-06   6.27943283e-06   2.30549231e-19   8.29828297e-14\n",
        "    1.32631581e-12   1.03384190e-08   2.87570511e-14   1.44739392e-10\n",
        "    9.45740381e-12   1.21729994e-17   2.09231727e-11   1.34788302e-15\n",
        "    3.34991504e-08   1.15274616e-20   4.86260068e-10   1.13198273e-07\n",
        "    1.25878415e-07   1.33365812e-07   9.14640045e-11]]\n",
        "[[ -7.51311986e-14  -1.20090419e-06  -1.57557345e-15  -1.55205742e-16\n",
        "   -3.89443846e-08  -6.43013251e-12  -2.85779419e-13  -1.18142206e-07\n",
        "   -1.58735368e-11  -8.52107649e-14  -3.99426543e-16  -1.76473909e-15\n",
        "   -5.47224540e-10  -6.41605059e-09  -2.15794080e-17  -6.38727431e-13\n",
        "   -8.45700775e-05  -3.73340354e-13  -3.81716039e-13  -4.98134713e-09\n",
        "   -4.72712066e-06  -6.26876845e-06  -2.30549231e-19  -8.29828241e-14\n",
        "   -1.32631573e-12  -1.03382970e-08  -2.87570507e-14  -1.44739111e-10\n",
        "   -9.45740222e-12  -1.21729994e-17  -2.09231693e-11  -1.34788302e-15\n",
        "   -3.34972469e-08  -1.15274616e-20  -4.86259558e-10  -1.13181500e-07\n",
        "   -1.25856221e-07  -1.33351609e-07  -9.14639225e-11]]\n"
       ]
      }
     ],
     "prompt_number": 27
    },
    {
     "cell_type": "code",
     "collapsed": false,
     "input": [
      "width = len(cat_labels)\n",
      "stuff = model.run(np.array([\"/\"])).reshape(width)\n",
      "print stuff.shape\n",
      "\n",
      "%matplotlib inline\n",
      "import matplotlib.pyplot as plt\n",
      "\n",
      "fig, ax = plt.subplots()\n",
      "ax.plot(range(width), stuff)\n",
      "fig.show()\n"
     ],
     "language": "python",
     "metadata": {},
     "outputs": [
      {
       "output_type": "stream",
       "stream": "stdout",
       "text": [
        "(39,)\n"
       ]
      },
      {
       "output_type": "stream",
       "stream": "stderr",
       "text": [
        "/usr/lib/python2.7/dist-packages/matplotlib/figure.py:387: UserWarning: matplotlib is currently using a non-GUI backend, so cannot show the figure\n",
        "  \"matplotlib is currently using a non-GUI backend, \"\n"
       ]
      },
      {
       "metadata": {},
       "output_type": "display_data",
       "png": "[encoded data removed]",
       "text": [
        "<matplotlib.figure.Figure at 0x7f805c349910>"
       ]
      }
     ],
     "prompt_number": 28
    },
    {
     "cell_type": "code",
     "collapsed": false,
     "input": [],
     "language": "python",
     "metadata": {},
     "outputs": []
    }
   ],
   "metadata": {}
  }
 ]
}