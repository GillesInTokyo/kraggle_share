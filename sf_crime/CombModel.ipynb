{
 "metadata": {
  "name": "",
  "signature": "sha256:f8a54146e93d09bf1b7403ecd5282bcccdcfbff444e16b99d4f8efb48bc0eb0a"
 },
 "nbformat": 3,
 "nbformat_minor": 0,
 "worksheets": [
  {
   "cells": [
    {
     "cell_type": "code",
     "collapsed": false,
     "input": [
      "import pandas as pd\n",
      "import numpy as np\n",
      "import math\n",
      "import random"
     ],
     "language": "python",
     "metadata": {},
     "outputs": [],
     "prompt_number": 4
    },
    {
     "cell_type": "code",
     "collapsed": false,
     "input": [
      "with open(\"model_term_cat_freq_count.npz\", 'r') as infile:\n",
      "    npzfile = np.load(infile)\n",
      "    term_list           = npzfile[\"term_list\"]\n",
      "    cat_labels          = npzfile[\"cat_labels\"]\n",
      "    stopwords           = npzfile[\"stopwords\"]\n",
      "    term_cat_freq_count = npzfile[\"term_cat_freq_count\"]\n",
      "\n",
      "with open(\"model_softmax.npz\", 'r') as infile:\n",
      "    npzfile = np.load(infile)\n",
      "    xy_max =npzfile[\"xy_max\"]\n",
      "    xy_min =npzfile[\"xy_min\"]\n",
      "    softmax=npzfile[\"softmax\"]"
     ],
     "language": "python",
     "metadata": {},
     "outputs": [],
     "prompt_number": 11
    },
    {
     "cell_type": "code",
     "collapsed": false,
     "input": [
      "train = pd.read_csv(\"train.csv\")\n",
      "train.shape"
     ],
     "language": "python",
     "metadata": {},
     "outputs": [
      {
       "metadata": {},
       "output_type": "pyout",
       "prompt_number": 6,
       "text": [
        "(878049, 9)"
       ]
      }
     ],
     "prompt_number": 6
    },
    {
     "cell_type": "code",
     "collapsed": false,
     "input": [
      "def labels_to_one_hots(labels,classes):\n",
      "    num_labels = labels.shape[0]\n",
      "    num_classes = classes.shape[0]\n",
      "\n",
      "    # create index of label into the hots..\n",
      "    #   ie covert the label to a number indexing into classes\n",
      "    label_index = np.zeros(labels.shape[0], dtype=int)\n",
      "    idx = 0\n",
      "    for c in classes:\n",
      "        label_index[labels == c] = idx\n",
      "        idx += 1\n",
      "\n",
      "    # compute the offsets into the one_hots (if it was flat)\n",
      "    hot_indexes = np.arange(num_labels) * num_classes + label_index\n",
      "\n",
      "    # and then write each item that is a hot as a hot\n",
      "    one_hots = np.zeros((num_labels, num_classes))\n",
      "    one_hots.flat[hot_indexes] = 1\n",
      "\n",
      "    return one_hots\n",
      "\n",
      "def xy_norm(xy, xy_min, xy_max):\n",
      "    xy = xy.astype(float)\n",
      "    \n",
      "    return (xy - xy_min)/(xy_max - xy_min)\n",
      "\n",
      "def prepare_data(data, xy_min, xy_max, cat_labels):\n",
      "    id_cat = None\n",
      "    if \"Id\" in data:\n",
      "        id_cat = data[\"Id\"].values\n",
      "    else:\n",
      "        id_cat = labels_to_one_hots(data[\"Category\"].values, cat_labels)\n",
      "    xys = xy_norm(data[['X','Y']].values, xy_min, xy_max)\n",
      "    terms = train[[\"Address\",\"PdDistrict\",\"DayOfWeek\"]].apply(lambda x : \" \".join(set(\" \".join(x).split())), axis=1).values\n",
      "    \n",
      "    return id_cat,xys,terms"
     ],
     "language": "python",
     "metadata": {},
     "outputs": [],
     "prompt_number": 20
    },
    {
     "cell_type": "code",
     "collapsed": false,
     "input": [
      "cats,xys,terms = prepare_data(train, xy_min, xy_max, cat_labels)\n",
      "\n",
      "print cats.shape\n",
      "print xys.shape\n",
      "print terms.shape\n",
      "\n",
      "print cats[0:5]\n",
      "print xys[0:5]\n",
      "print terms[0:5]"
     ],
     "language": "python",
     "metadata": {},
     "outputs": [
      {
       "output_type": "stream",
       "stream": "stdout",
       "text": [
        "(878049, 39)\n",
        "(878049, 2)\n",
        "(878049,)\n",
        "[[ 0.  0.  0.  0.  0.  0.  0.  0.  0.  0.  0.  0.  0.  0.  0.  0.  0.  0.\n",
        "   0.  0.  0.  0.  0.  0.  0.  0.  0.  0.  0.  0.  0.  0.  0.  0.  0.  0.\n",
        "   0.  1.  0.]\n",
        " [ 0.  0.  0.  0.  0.  0.  0.  0.  0.  0.  0.  0.  0.  0.  0.  0.  0.  0.\n",
        "   0.  0.  0.  1.  0.  0.  0.  0.  0.  0.  0.  0.  0.  0.  0.  0.  0.  0.\n",
        "   0.  0.  0.]\n",
        " [ 0.  0.  0.  0.  0.  0.  0.  0.  0.  0.  0.  0.  0.  0.  0.  0.  0.  0.\n",
        "   0.  0.  0.  1.  0.  0.  0.  0.  0.  0.  0.  0.  0.  0.  0.  0.  0.  0.\n",
        "   0.  0.  0.]\n",
        " [ 0.  0.  0.  0.  0.  0.  0.  0.  0.  0.  0.  0.  0.  0.  0.  0.  1.  0.\n",
        "   0.  0.  0.  0.  0.  0.  0.  0.  0.  0.  0.  0.  0.  0.  0.  0.  0.  0.\n",
        "   0.  0.  0.]\n",
        " [ 0.  0.  0.  0.  0.  0.  0.  0.  0.  0.  0.  0.  0.  0.  0.  0.  1.  0.\n",
        "   0.  0.  0.  0.  0.  0.  0.  0.  0.  0.  0.  0.  0.  0.  0.  0.  0.  0.\n",
        "   0.  0.  0.]]\n",
        "[[ 0.5900988   0.59519781]\n",
        " [ 0.5900988   0.59519781]\n",
        " [ 0.60037861  0.825497  ]\n",
        " [ 0.58267703  0.82958554]\n",
        " [ 0.50371311  0.56792288]]\n",
        "['NORTHERN OAK Wednesday / ST LAGUNA' 'NORTHERN OAK Wednesday / ST LAGUNA'\n",
        " 'GREENWICH NORTHERN Wednesday / ST AV VANNESS'\n",
        " 'LOMBARD NORTHERN of Wednesday ST 1500 Block'\n",
        " 'BRODERICK of PARK Wednesday ST 100 Block']\n"
       ]
      }
     ],
     "prompt_number": 22
    },
    {
     "cell_type": "code",
     "collapsed": false,
     "input": [
      "input_xys    = xys\n",
      "input_terms = terms\n",
      "outputs     = cats\n",
      "\n",
      "split = int(0.9 * input_xys.shape[0])\n",
      "\n",
      "idx = np.arange(input_xys.shape[0])\n",
      "np.random.shuffle(idx)\n",
      "\n",
      "idx_train = idx[0:split]\n",
      "idx_test  = idx[split:input_xys.shape[0]]\n",
      "\n",
      "train_in_xys  = input_xys[idx_train] \n",
      "train_in_terms = input_terms[idx_train] \n",
      "train_out_set = outputs[idx_train] \n",
      "\n",
      "test_in_xys   = input_xys[idx_test]\n",
      "test_in_terms = input_terms[idx_test]\n",
      "test_out_set  = outputs[idx_test]\n",
      "\n",
      "print train_in_xys.shape\n",
      "print train_in_terms.shape\n",
      "print train_out_set.shape\n",
      "\n",
      "print test_in_xys.shape\n",
      "print test_in_terms.shape\n",
      "print test_out_set.shape\n"
     ],
     "language": "python",
     "metadata": {},
     "outputs": [
      {
       "output_type": "stream",
       "stream": "stdout",
       "text": [
        "(790244, 2)\n",
        "(790244,)\n",
        "(790244, 39)\n",
        "(87805, 2)\n",
        "(87805,)\n",
        "(87805, 39)\n"
       ]
      }
     ],
     "prompt_number": 25
    },
    {
     "cell_type": "code",
     "collapsed": false,
     "input": [
      "def run_map_model(softmax, xy):\n",
      "    results = np.zeros((xy.shape[0], softmax.shape[0]))\n",
      "    for i in range(xy.shape[0]):\n",
      "        x = np.maximum(0, np.minimum(100, int(100*xy[i,0])))\n",
      "        y = np.maximum(0, np.minimum(100, int(100*xy[i,1])))\n",
      "        res = softmax[:,x,y]\n",
      "\n",
      "        results[i,:] = res\n",
      "        \n",
      "    return results"
     ],
     "language": "python",
     "metadata": {},
     "outputs": [],
     "prompt_number": 26
    },
    {
     "cell_type": "code",
     "collapsed": false,
     "input": [
      "def run_term_freq(stopwords, term_list, term_cat_freq_count, data):\n",
      "    # basicly we combine the pdf for each term by assuming terms are mutex\n",
      "    pdf = np.ones((data.shape[0],len(cat_labels)))/len(cat_labels)\n",
      "        \n",
      "    for i in xrange(len(data)):\n",
      "        terms = data[i].split()\n",
      "        for t in terms:\n",
      "            if (not t in stopwords):                    \n",
      "                idx = term_list==t\n",
      "                pdf[i,:] *= term_cat_freq_count[idx,:].reshape((term_cat_freq_count.shape[1])) \n",
      "        \n",
      "    return pdf"
     ],
     "language": "python",
     "metadata": {},
     "outputs": [],
     "prompt_number": 36
    },
    {
     "cell_type": "code",
     "collapsed": false,
     "input": [
      "#sigh i know...\n",
      "def run_combine(map_pdf, term_pdf):\n",
      "    c = map_pdf * term_pdf\n",
      "    sums = np.sum(c, axis=0)\n",
      "    c = c / sums\n",
      "    return c"
     ],
     "language": "python",
     "metadata": {},
     "outputs": [],
     "prompt_number": 38
    },
    {
     "cell_type": "code",
     "collapsed": false,
     "input": [
      "map_pdf  = run_map_model(softmax, test_in_xys)"
     ],
     "language": "python",
     "metadata": {},
     "outputs": [],
     "prompt_number": 32
    },
    {
     "cell_type": "code",
     "collapsed": false,
     "input": [
      "term_pdf = run_term_freq(stopwords, term_list, term_cat_freq_count, test_in_terms)"
     ],
     "language": "python",
     "metadata": {},
     "outputs": [],
     "prompt_number": 37
    },
    {
     "cell_type": "code",
     "collapsed": false,
     "input": [
      "comb_pdf = run_combine(map_pdf, term_pdf)"
     ],
     "language": "python",
     "metadata": {},
     "outputs": [],
     "prompt_number": 39
    },
    {
     "cell_type": "code",
     "collapsed": false,
     "input": [
      "def logloss(actual, result):\n",
      "    epsilon = 1e-15\n",
      "    pred = np.maximum(  epsilon, result)\n",
      "    pred = np.minimum(1-epsilon, result)\n",
      "    ll = -1.0 * np.mean(actual*np.log(result) + (1.0 - actual)*np.log(1.0 - result), axis=0)\n",
      "    return np.sum(ll)\n",
      "\n",
      "def accuracy(actual, result):\n",
      "    correct_prediction = np.argmax(result,axis=1) == np.argmax(actual,axis=1)\n",
      "    accuracy = float(np.sum(correct_prediction)) / float(correct_prediction.shape[0])\n",
      "\n",
      "    lloss = logloss(actual,result)\n",
      "\n",
      "    print \" correct:\", np.sum(correct_prediction), \"/\", correct_prediction.shape[0]\n",
      "    print \" accuracy:\", accuracy, \"log loss\", lloss\n"
     ],
     "language": "python",
     "metadata": {},
     "outputs": [],
     "prompt_number": 43
    },
    {
     "cell_type": "code",
     "collapsed": false,
     "input": [
      "accuracy(test_out_set, map_pdf)\n",
      "accuracy(test_out_set, term_pdf)\n",
      "accuracy(test_out_set, comb_pdf)"
     ],
     "language": "python",
     "metadata": {},
     "outputs": [
      {
       "output_type": "stream",
       "stream": "stdout",
       "text": [
        " correct: 24400 / 87805\n",
        " accuracy: 0.277888502933 log loss 3.37182322194\n",
        " correct:"
       ]
      },
      {
       "output_type": "stream",
       "stream": "stdout",
       "text": [
        " 20279 / 87805\n",
        " accuracy: 0.230954957007 log loss 13.9302443614\n",
        " correct:"
       ]
      },
      {
       "output_type": "stream",
       "stream": "stdout",
       "text": [
        " 20690 / 87805\n",
        " accuracy: 0.235635783839 log loss 12.1829098248\n"
       ]
      }
     ],
     "prompt_number": 44
    },
    {
     "cell_type": "code",
     "collapsed": false,
     "input": [],
     "language": "python",
     "metadata": {},
     "outputs": []
    }
   ],
   "metadata": {}
  }
 ]
}